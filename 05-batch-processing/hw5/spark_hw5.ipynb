{
 "cells": [
  {
   "cell_type": "markdown",
   "metadata": {},
   "source": [
    "# Data Engineering Zoomcamp HW5"
   ]
  },
  {
   "cell_type": "code",
   "execution_count": 48,
   "metadata": {},
   "outputs": [],
   "source": [
    "import os\n",
    "import pyspark\n",
    "from pyspark import SparkConf\n",
    "from pyspark.sql import SparkSession\n",
    "from pyspark.sql import types\n",
    "from dotenv import load_dotenv, find_dotenv\n"
   ]
  },
  {
   "cell_type": "code",
   "execution_count": 49,
   "metadata": {},
   "outputs": [],
   "source": [
    "find_dotenv()\n",
    "load_dotenv()\n",
    "\n",
    "google_credentials = os.environ.get('GOOGLE_APPLICATION_CREDENTIALS')"
   ]
  },
  {
   "cell_type": "code",
   "execution_count": 50,
   "metadata": {},
   "outputs": [],
   "source": [
    "# Constants\n",
    "\n",
    "INPUT_PATH = \"gs://de-zoomcamp-bq-2/fhv/fhv_tripdata_2019-10.csv\"\n",
    "OUTPUT_PATH = \"gs://de-zoomcamp-bq-2/hw5/fhv_tripdata_2019-10/\""
   ]
  },
  {
   "cell_type": "markdown",
   "metadata": {},
   "source": [
    "## Question 1"
   ]
  },
  {
   "cell_type": "code",
   "execution_count": 51,
   "metadata": {},
   "outputs": [
    {
     "data": {
      "text/plain": [
       "'3.3.2'"
      ]
     },
     "execution_count": 51,
     "metadata": {},
     "output_type": "execute_result"
    }
   ],
   "source": [
    "pyspark.__version__"
   ]
  },
  {
   "cell_type": "code",
   "execution_count": 52,
   "metadata": {},
   "outputs": [],
   "source": [
    "spark_config = [\n",
    "    (\"spark.jars\", \"https://storage.googleapis.com/hadoop-lib/gcs/gcs-connector-hadoop3-latest.jar\"),\n",
    "    (\"spark.hadoop.google.cloud.auth.service.account.enable\", \"true\"),\n",
    "    (\"spark.hadoop.google.cloud.auth.service.account.json.keyfile\", google_credentials),\n",
    "]\n",
    "\n",
    "spark_conf = SparkConf().setAll(spark_config)"
   ]
  },
  {
   "cell_type": "code",
   "execution_count": 53,
   "metadata": {},
   "outputs": [],
   "source": [
    "spark = SparkSession.builder \\\n",
    "        .appName('spark_dezoomcamp') \\\n",
    "        .master('local[*]') \\\n",
    "        .config(conf=spark_conf) \\\n",
    "        .getOrCreate()"
   ]
  },
  {
   "cell_type": "markdown",
   "metadata": {},
   "source": [
    "## Question 2"
   ]
  },
  {
   "cell_type": "code",
   "execution_count": 54,
   "metadata": {},
   "outputs": [],
   "source": [
    "fhv_schema = types.StructType([\n",
    "    types.StructField('dispatching_base_num', types.IntegerType(), True), \n",
    "    types.StructField('pickup_datetime', types.TimestampType(), True), \n",
    "    types.StructField('dropOff_datetime', types.TimestampType(), True), \n",
    "    types.StructField('PUlocationID', types.IntegerType(), True), \n",
    "    types.StructField('DOlocationID', types.IntegerType(), True), \n",
    "    types.StructField('SR_Flag', types.StringType(), True), \n",
    "    types.StructField('Affiliated_base_number', types.IntegerType(), True)])"
   ]
  },
  {
   "cell_type": "code",
   "execution_count": 55,
   "metadata": {},
   "outputs": [],
   "source": [
    "df_fhv_2019 = spark.read \\\n",
    "    .option(\"header\", \"true\") \\\n",
    "    .schema(fhv_schema) \\\n",
    "    .csv(INPUT_PATH)"
   ]
  },
  {
   "cell_type": "code",
   "execution_count": 56,
   "metadata": {},
   "outputs": [
    {
     "name": "stderr",
     "output_type": "stream",
     "text": [
      "                                                                                \r"
     ]
    },
    {
     "data": {
      "text/plain": [
       "1897493"
      ]
     },
     "execution_count": 56,
     "metadata": {},
     "output_type": "execute_result"
    }
   ],
   "source": [
    "df_fhv_2019.count()"
   ]
  },
  {
   "cell_type": "code",
   "execution_count": 57,
   "metadata": {},
   "outputs": [
    {
     "name": "stderr",
     "output_type": "stream",
     "text": [
      "                                                                                \r"
     ]
    }
   ],
   "source": [
    "df_fhv_2019 \\\n",
    "    .repartition(6) \\\n",
    "    .write \\\n",
    "    .mode('overwrite') \\\n",
    "    .parquet(OUTPUT_PATH)"
   ]
  },
  {
   "cell_type": "markdown",
   "metadata": {},
   "source": [
    "## Question 3"
   ]
  },
  {
   "cell_type": "code",
   "execution_count": 58,
   "metadata": {},
   "outputs": [
    {
     "name": "stderr",
     "output_type": "stream",
     "text": [
      "                                                                                \r"
     ]
    }
   ],
   "source": [
    "df_fhv = spark.read\\\n",
    "    .parquet(OUTPUT_PATH)\n",
    "\n",
    "# Create a temp view for FHV oct data for SQL queries. \n",
    "df_fhv.createOrReplaceTempView('fhv_oct')"
   ]
  },
  {
   "cell_type": "code",
   "execution_count": 59,
   "metadata": {},
   "outputs": [
    {
     "name": "stderr",
     "output_type": "stream",
     "text": [
      "[Stage 69:================================================>         (5 + 1) / 6]\r"
     ]
    },
    {
     "name": "stdout",
     "output_type": "stream",
     "text": [
      "+--------------+\n",
      "|num_taxi_trips|\n",
      "+--------------+\n",
      "|         62610|\n",
      "+--------------+\n",
      "\n"
     ]
    },
    {
     "name": "stderr",
     "output_type": "stream",
     "text": [
      "                                                                                \r"
     ]
    }
   ],
   "source": [
    "query = f\"\"\"\n",
    "    SELECT \n",
    "        COUNT(1) AS num_taxi_trips\n",
    "    FROM fhv_oct\n",
    "    WHERE date_trunc('day', pickup_datetime) = '2019-10-15 00:00:00'\n",
    "\"\"\"\n",
    "\n",
    "spark.sql(query).show()"
   ]
  },
  {
   "cell_type": "markdown",
   "metadata": {},
   "source": [
    "## Question 4"
   ]
  },
  {
   "cell_type": "code",
   "execution_count": 60,
   "metadata": {},
   "outputs": [
    {
     "name": "stderr",
     "output_type": "stream",
     "text": [
      "[Stage 72:================================================>         (5 + 1) / 6]\r"
     ]
    },
    {
     "name": "stdout",
     "output_type": "stream",
     "text": [
      "+------------+\n",
      "|longest_trip|\n",
      "+------------+\n",
      "|    631152.5|\n",
      "+------------+\n",
      "\n"
     ]
    },
    {
     "name": "stderr",
     "output_type": "stream",
     "text": [
      "                                                                                \r"
     ]
    }
   ],
   "source": [
    "query = f\"\"\"\n",
    "    SELECT \n",
    "        MAX((unix_timestamp(dropoff_datetime) - unix_timestamp(pickup_datetime)) / (60 * 60))AS longest_trip\n",
    "    FROM fhv_oct\n",
    "\"\"\"\n",
    "\n",
    "spark.sql(query).show()"
   ]
  },
  {
   "cell_type": "markdown",
   "metadata": {},
   "source": [
    "## Question 6"
   ]
  },
  {
   "cell_type": "code",
   "execution_count": 61,
   "metadata": {},
   "outputs": [],
   "source": [
    "df_zones = spark.read \\\n",
    "    .option(\"header\", \"true\") \\\n",
    "    .csv('../data/taxi_zone_lookup.csv')\n",
    "    \n",
    "df_zones.createOrReplaceTempView('zones')"
   ]
  },
  {
   "cell_type": "code",
   "execution_count": 62,
   "metadata": {},
   "outputs": [
    {
     "name": "stdout",
     "output_type": "stream",
     "text": [
      "+----------+-------------+--------------------+------------+\n",
      "|LocationID|      Borough|                Zone|service_zone|\n",
      "+----------+-------------+--------------------+------------+\n",
      "|         1|          EWR|      Newark Airport|         EWR|\n",
      "|         2|       Queens|         Jamaica Bay|   Boro Zone|\n",
      "|         3|        Bronx|Allerton/Pelham G...|   Boro Zone|\n",
      "|         4|    Manhattan|       Alphabet City| Yellow Zone|\n",
      "|         5|Staten Island|       Arden Heights|   Boro Zone|\n",
      "|         6|Staten Island|Arrochar/Fort Wad...|   Boro Zone|\n",
      "|         7|       Queens|             Astoria|   Boro Zone|\n",
      "|         8|       Queens|        Astoria Park|   Boro Zone|\n",
      "|         9|       Queens|          Auburndale|   Boro Zone|\n",
      "|        10|       Queens|        Baisley Park|   Boro Zone|\n",
      "|        11|     Brooklyn|          Bath Beach|   Boro Zone|\n",
      "|        12|    Manhattan|        Battery Park| Yellow Zone|\n",
      "|        13|    Manhattan|   Battery Park City| Yellow Zone|\n",
      "|        14|     Brooklyn|           Bay Ridge|   Boro Zone|\n",
      "|        15|       Queens|Bay Terrace/Fort ...|   Boro Zone|\n",
      "|        16|       Queens|             Bayside|   Boro Zone|\n",
      "|        17|     Brooklyn|             Bedford|   Boro Zone|\n",
      "|        18|        Bronx|        Bedford Park|   Boro Zone|\n",
      "|        19|       Queens|           Bellerose|   Boro Zone|\n",
      "|        20|        Bronx|             Belmont|   Boro Zone|\n",
      "+----------+-------------+--------------------+------------+\n",
      "only showing top 20 rows\n",
      "\n"
     ]
    }
   ],
   "source": [
    "query = f\"\"\"\n",
    "    SELECT *\n",
    "    FROM zones\n",
    "\"\"\"\n",
    "\n",
    "spark.sql(query).show()"
   ]
  },
  {
   "cell_type": "code",
   "execution_count": 63,
   "metadata": {},
   "outputs": [
    {
     "name": "stderr",
     "output_type": "stream",
     "text": [
      "[Stage 77:>                                                         (0 + 1) / 1]\r"
     ]
    },
    {
     "name": "stdout",
     "output_type": "stream",
     "text": [
      "+--------------------+-------------------+-------------------+------------+------------+-------+----------------------+\n",
      "|dispatching_base_num|    pickup_datetime|   dropOff_datetime|PUlocationID|DOlocationID|SR_Flag|Affiliated_base_number|\n",
      "+--------------------+-------------------+-------------------+------------+------------+-------+----------------------+\n",
      "|                null|2019-10-06 14:15:00|2019-10-06 17:07:00|         264|         264|   null|                  null|\n",
      "|                null|2019-10-01 17:54:21|2019-10-01 17:59:50|         179|           7|   null|                  null|\n",
      "|                null|2019-10-01 08:30:52|2019-10-01 08:40:16|         264|          82|   null|                  null|\n",
      "|                null|2019-10-06 23:00:00|2019-10-06 23:30:58|         264|         264|   null|                  null|\n",
      "|                null|2019-10-01 19:04:56|2019-10-01 19:26:44|         264|         259|   null|                  null|\n",
      "|                null|2019-10-08 06:49:04|2019-10-08 06:53:10|         264|          51|   null|                  null|\n",
      "|                null|2019-10-01 23:05:18|2019-10-01 23:12:09|         264|         247|   null|                  null|\n",
      "|                null|2019-10-01 19:43:01|2019-10-01 20:35:10|          68|         265|   null|                  null|\n",
      "|                null|2019-10-04 07:00:56|2019-10-04 08:08:57|          77|         130|   null|                  null|\n",
      "|                null|2019-10-07 10:21:49|2019-10-07 10:56:25|         138|         162|   null|                  null|\n",
      "|                null|2019-10-06 06:34:02|2019-10-06 06:40:35|         264|          76|   null|                  null|\n",
      "|                null|2019-10-05 10:19:28|2019-10-05 10:28:37|         264|         258|   null|                  null|\n",
      "|                null|2019-10-08 00:27:31|2019-10-08 00:32:16|         264|         136|   null|                  null|\n",
      "|                null|2019-10-01 14:01:39|2019-10-01 14:05:47|         264|          81|   null|                  null|\n",
      "|                null|2019-10-06 11:10:52|2019-10-06 11:17:18|         264|          61|   null|                  null|\n",
      "|                null|2019-10-05 00:35:53|2019-10-05 00:41:40|         264|          69|   null|                  null|\n",
      "|                null|2019-10-01 20:43:25|2019-10-01 20:52:50|         264|         254|   null|                  null|\n",
      "|                null|2019-10-07 12:29:54|2019-10-07 12:41:42|         210|         149|   null|                  null|\n",
      "|                null|2019-10-02 12:39:40|2019-10-02 13:00:11|         264|         174|   null|                  null|\n",
      "|                null|2019-10-08 05:50:07|2019-10-08 06:25:05|         264|         264|   null|                  null|\n",
      "+--------------------+-------------------+-------------------+------------+------------+-------+----------------------+\n",
      "only showing top 20 rows\n",
      "\n"
     ]
    },
    {
     "name": "stderr",
     "output_type": "stream",
     "text": [
      "                                                                                \r"
     ]
    }
   ],
   "source": [
    "query = f\"\"\"\n",
    "    SELECT *\n",
    "    FROM fhv_oct\n",
    "\"\"\"\n",
    "\n",
    "spark.sql(query).show()"
   ]
  },
  {
   "cell_type": "code",
   "execution_count": 64,
   "metadata": {},
   "outputs": [
    {
     "name": "stderr",
     "output_type": "stream",
     "text": [
      "[Stage 79:======================================>                   (4 + 2) / 6]\r"
     ]
    },
    {
     "name": "stdout",
     "output_type": "stream",
     "text": [
      "+--------------------+------------+\n",
      "|                Zone|pick_up_freq|\n",
      "+--------------------+------------+\n",
      "|         Jamaica Bay|           1|\n",
      "|Governor's Island...|           2|\n",
      "| Green-Wood Cemetery|           5|\n",
      "|       Broad Channel|           8|\n",
      "|     Highbridge Park|          14|\n",
      "|        Battery Park|          15|\n",
      "|Saint Michaels Ce...|          23|\n",
      "|Breezy Point/Fort...|          25|\n",
      "|Marine Park/Floyd...|          26|\n",
      "|        Astoria Park|          29|\n",
      "|    Inwood Hill Park|          39|\n",
      "|       Willets Point|          47|\n",
      "|Forest Park/Highl...|          53|\n",
      "|  Brooklyn Navy Yard|          57|\n",
      "|        Crotona Park|          62|\n",
      "|        Country Club|          77|\n",
      "|     Freshkills Park|          89|\n",
      "|       Prospect Park|          98|\n",
      "|     Columbia Street|         105|\n",
      "|  South Williamsburg|         110|\n",
      "+--------------------+------------+\n",
      "only showing top 20 rows\n",
      "\n"
     ]
    },
    {
     "name": "stderr",
     "output_type": "stream",
     "text": [
      "                                                                                \r"
     ]
    }
   ],
   "source": [
    "query = f\"\"\"\n",
    "    SELECT \n",
    "        Zone,\n",
    "        COUNT(1) as pick_up_freq\n",
    "    FROM \n",
    "        fhv_oct\n",
    "    INNER JOIN \n",
    "        zones\n",
    "    ON \n",
    "        fhv_oct.PUlocationID = zones.LocationID\n",
    "    GROUP BY\n",
    "        Zone\n",
    "    ORDER BY \n",
    "        pick_up_freq ASC\n",
    "\"\"\"\n",
    "\n",
    "spark.sql(query).show()"
   ]
  },
  {
   "cell_type": "markdown",
   "metadata": {},
   "source": [
    "# Thank You !"
   ]
  }
 ],
 "metadata": {
  "kernelspec": {
   "display_name": "base",
   "language": "python",
   "name": "python3"
  },
  "language_info": {
   "codemirror_mode": {
    "name": "ipython",
    "version": 3
   },
   "file_extension": ".py",
   "mimetype": "text/x-python",
   "name": "python",
   "nbconvert_exporter": "python",
   "pygments_lexer": "ipython3",
   "version": "3.11.5"
  }
 },
 "nbformat": 4,
 "nbformat_minor": 2
}
