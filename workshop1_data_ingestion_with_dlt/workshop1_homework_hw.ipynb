{
  "cells": [
    {
      "cell_type": "markdown",
      "metadata": {
        "id": "mrTFv5nPClXh"
      },
      "source": [
        "# **Homework**: Data talks club data engineering zoomcamp Data loading workshop\n",
        "\n",
        "Hello folks, let's practice what we learned - Loading data with the best practices of data engineering.\n",
        "\n",
        "Here are the exercises we will do\n",
        "\n",
        "\n"
      ]
    },
    {
      "cell_type": "markdown",
      "metadata": {
        "id": "wLF4iXf-NR7t"
      },
      "source": [
        "# 1. Use a generator\n",
        "\n",
        "Remember the concept of generator? Let's practice using them to futher our understanding of how they work.\n",
        "\n",
        "Let's define a generator and then run it as practice.\n",
        "\n",
        "**Answer the following questions:**\n",
        "\n",
        "- **Question 1: What is the sum of the outputs of the generator for limit = 5?**\n",
        "- **Question 2: What is the 13th number yielded**\n",
        "\n",
        "I suggest practicing these questions without GPT as the purpose is to further your learning."
      ]
    },
    {
      "cell_type": "code",
      "execution_count": 1,
      "metadata": {
        "colab": {
          "base_uri": "https://localhost:8080/"
        },
        "id": "wLng-bDJN4jf",
        "outputId": "547683cb-5f56-4815-a903-d0d9578eb1f9"
      },
      "outputs": [
        {
          "name": "stdout",
          "output_type": "stream",
          "text": [
            "1.0\n",
            "1.4142135623730951\n",
            "1.7320508075688772\n",
            "2.0\n",
            "2.23606797749979\n"
          ]
        }
      ],
      "source": [
        "def square_root_generator(limit):\n",
        "    n = 1\n",
        "    while n <= limit:\n",
        "        yield n**0.5\n",
        "        n += 1\n",
        "\n",
        "\n",
        "# Example usage:\n",
        "limit = 5\n",
        "generator = square_root_generator(limit)\n",
        "\n",
        "for sqrt_value in generator:\n",
        "    print(sqrt_value)"
      ]
    },
    {
      "cell_type": "code",
      "execution_count": 2,
      "metadata": {
        "id": "xbe3q55zN43j"
      },
      "outputs": [
        {
          "name": "stdout",
          "output_type": "stream",
          "text": [
            "8.382332347441762\n"
          ]
        }
      ],
      "source": [
        "# Question 1:\n",
        "\n",
        "limit = 5\n",
        "generator = square_root_generator(limit)\n",
        "\n",
        "sum = 0\n",
        "for sqrt_value in generator:\n",
        "    sum += sqrt_value\n",
        "print(sum)"
      ]
    },
    {
      "cell_type": "code",
      "execution_count": 3,
      "metadata": {},
      "outputs": [
        {
          "name": "stdout",
          "output_type": "stream",
          "text": [
            "3.605551275463989\n"
          ]
        }
      ],
      "source": [
        "# Question 2:\n",
        "limit = 13\n",
        "generator = square_root_generator(limit)\n",
        "print(list(generator)[-1])"
      ]
    },
    {
      "cell_type": "markdown",
      "metadata": {
        "id": "vjWhILzGJMpK"
      },
      "source": [
        "# 2. Append a generator to a table with existing data\n",
        "\n",
        "\n",
        "Below you have 2 generators. You will be tasked to load them to duckdb and answer some questions from the data\n",
        "\n",
        "1. Load the first generator and calculate the sum of ages of all people. Make sure to only load it once.\n",
        "2. Append the second generator to the same table as the first.\n",
        "3. **After correctly appending the data, calculate the sum of all ages of people.**\n",
        "\n",
        "\n"
      ]
    },
    {
      "cell_type": "code",
      "execution_count": 4,
      "metadata": {
        "colab": {
          "base_uri": "https://localhost:8080/"
        },
        "id": "2MoaQcdLBEk6",
        "outputId": "d2b93dc1-d83f-44ea-aeff-fdf51d75f7aa"
      },
      "outputs": [
        {
          "name": "stdout",
          "output_type": "stream",
          "text": [
            "{'ID': 1, 'Name': 'Person_1', 'Age': 26, 'City': 'City_A'}\n",
            "{'ID': 2, 'Name': 'Person_2', 'Age': 27, 'City': 'City_A'}\n",
            "{'ID': 3, 'Name': 'Person_3', 'Age': 28, 'City': 'City_A'}\n",
            "{'ID': 4, 'Name': 'Person_4', 'Age': 29, 'City': 'City_A'}\n",
            "{'ID': 5, 'Name': 'Person_5', 'Age': 30, 'City': 'City_A'}\n",
            "{'ID': 3, 'Name': 'Person_3', 'Age': 33, 'City': 'City_B', 'Occupation': 'Job_3'}\n",
            "{'ID': 4, 'Name': 'Person_4', 'Age': 34, 'City': 'City_B', 'Occupation': 'Job_4'}\n",
            "{'ID': 5, 'Name': 'Person_5', 'Age': 35, 'City': 'City_B', 'Occupation': 'Job_5'}\n",
            "{'ID': 6, 'Name': 'Person_6', 'Age': 36, 'City': 'City_B', 'Occupation': 'Job_6'}\n",
            "{'ID': 7, 'Name': 'Person_7', 'Age': 37, 'City': 'City_B', 'Occupation': 'Job_7'}\n",
            "{'ID': 8, 'Name': 'Person_8', 'Age': 38, 'City': 'City_B', 'Occupation': 'Job_8'}\n"
          ]
        }
      ],
      "source": [
        "def people_1():\n",
        "    for i in range(1, 6):\n",
        "        yield {\"ID\": i, \"Name\": f\"Person_{i}\", \"Age\": 25 + i, \"City\": \"City_A\"}\n",
        "\n",
        "\n",
        "for person in people_1():\n",
        "    print(person)\n",
        "\n",
        "\n",
        "def people_2():\n",
        "    for i in range(3, 9):\n",
        "        yield {\n",
        "            \"ID\": i,\n",
        "            \"Name\": f\"Person_{i}\",\n",
        "            \"Age\": 30 + i,\n",
        "            \"City\": \"City_B\",\n",
        "            \"Occupation\": f\"Job_{i}\",\n",
        "        }\n",
        "\n",
        "\n",
        "for person in people_2():\n",
        "    print(person)"
      ]
    },
    {
      "cell_type": "code",
      "execution_count": 5,
      "metadata": {},
      "outputs": [
        {
          "name": "stdout",
          "output_type": "stream",
          "text": [
            "Pipeline dlt_ipykernel_launcher load step completed in 0.22 seconds\n",
            "1 load package(s) were loaded to destination duckdb and into dataset generators\n",
            "The duckdb destination used duckdb:////Users/hongweichua/Documents/data-engineering-zoomcamp/data-engineering-zoomcamp-submission/data_ingestion_with_dlt/dlt_ipykernel_launcher.duckdb location to store data\n",
            "Load package 1707714866.333623 is LOADED and contains no failed jobs\n",
            "Pipeline dlt_ipykernel_launcher load step completed in 0.20 seconds\n",
            "1 load package(s) were loaded to destination duckdb and into dataset generators\n",
            "The duckdb destination used duckdb:////Users/hongweichua/Documents/data-engineering-zoomcamp/data-engineering-zoomcamp-submission/data_ingestion_with_dlt/dlt_ipykernel_launcher.duckdb location to store data\n",
            "Load package 1707714866.9316092 is LOADED and contains no failed jobs\n"
          ]
        }
      ],
      "source": [
        "import dlt\n",
        "\n",
        "# define the connection to load to.\n",
        "generators_pipeline = dlt.pipeline(\n",
        "    destination=\"duckdb\", dataset_name=\"generators\")\n",
        "info = generators_pipeline.run(\n",
        "    people_1(), table_name=\"question_3\", write_disposition=\"append\"\n",
        ")\n",
        "print(info)\n",
        "info = generators_pipeline.run(\n",
        "    people_2(), table_name=\"question_3\", write_disposition=\"append\"\n",
        ")\n",
        "print(info)"
      ]
    },
    {
      "cell_type": "code",
      "execution_count": 6,
      "metadata": {},
      "outputs": [
        {
          "name": "stdout",
          "output_type": "stream",
          "text": [
            "Loaded tables: \n"
          ]
        },
        {
          "data": {
            "text/plain": [
              "┌─────────────────────┐\n",
              "│        name         │\n",
              "│       varchar       │\n",
              "├─────────────────────┤\n",
              "│ _dlt_loads          │\n",
              "│ _dlt_pipeline_state │\n",
              "│ _dlt_version        │\n",
              "│ question_3          │\n",
              "└─────────────────────┘"
            ]
          },
          "metadata": {},
          "output_type": "display_data"
        },
        {
          "name": "stdout",
          "output_type": "stream",
          "text": [
            "\n",
            " Question 3 table below:\n"
          ]
        },
        {
          "data": {
            "text/html": [
              "<div>\n",
              "<style scoped>\n",
              "    .dataframe tbody tr th:only-of-type {\n",
              "        vertical-align: middle;\n",
              "    }\n",
              "\n",
              "    .dataframe tbody tr th {\n",
              "        vertical-align: top;\n",
              "    }\n",
              "\n",
              "    .dataframe thead th {\n",
              "        text-align: right;\n",
              "    }\n",
              "</style>\n",
              "<table border=\"1\" class=\"dataframe\">\n",
              "  <thead>\n",
              "    <tr style=\"text-align: right;\">\n",
              "      <th></th>\n",
              "      <th>sum(age)</th>\n",
              "    </tr>\n",
              "  </thead>\n",
              "  <tbody>\n",
              "    <tr>\n",
              "      <th>0</th>\n",
              "      <td>353.0</td>\n",
              "    </tr>\n",
              "  </tbody>\n",
              "</table>\n",
              "</div>"
            ],
            "text/plain": [
              "   sum(age)\n",
              "0     353.0"
            ]
          },
          "metadata": {},
          "output_type": "display_data"
        }
      ],
      "source": [
        "import duckdb\n",
        "\n",
        "conn = duckdb.connect(f\"{generators_pipeline.pipeline_name}.duckdb\")\n",
        "\n",
        "# let's see the tables\n",
        "conn.sql(f\"SET search_path = '{generators_pipeline.dataset_name}'\")\n",
        "print(\"Loaded tables: \")\n",
        "display(conn.sql(\"show tables\"))\n",
        "\n",
        "# and the data\n",
        "\n",
        "print(\"\\n Question 3 table below:\")\n",
        "\n",
        "age_3 = conn.sql(\"SELECT SUM(age) FROM question_3\").df()\n",
        "display(age_3)"
      ]
    },
    {
      "cell_type": "code",
      "execution_count": 7,
      "metadata": {
        "id": "xTVvtyqrfVNq"
      },
      "outputs": [],
      "source": [
        "# Install the dependencies\n",
        "# !pip install dlt[duckdb]"
      ]
    },
    {
      "cell_type": "markdown",
      "metadata": {
        "id": "pY4cFAWOSwN1"
      },
      "source": [
        "# 3. Merge a generator\n",
        "\n",
        "Re-use the generators from Exercise 2.\n",
        "\n",
        "A table's primary key needs to be created from the start, so load your data to a new table with primary key ID.\n",
        "\n",
        "Load your first generator first, and then load the second one with merge. Since they have overlapping IDs, some of the records from the first load should be replaced by the ones from the second load.\n",
        "\n",
        "After loading, you should have a total of 8 records, and ID 3 should have age 33.\n",
        "\n",
        "Question: **Calculate the sum of ages of all the people loaded as described above.**\n"
      ]
    },
    {
      "cell_type": "markdown",
      "metadata": {
        "id": "kKB2GTB9oVjr"
      },
      "source": [
        "# Solution: First make sure that the following modules are installed:"
      ]
    },
    {
      "cell_type": "code",
      "execution_count": 8,
      "metadata": {
        "id": "a2-PRBAkGC2K"
      },
      "outputs": [
        {
          "name": "stdout",
          "output_type": "stream",
          "text": [
            "Pipeline dlt_ipykernel_launcher load step completed in 0.33 seconds\n",
            "1 load package(s) were loaded to destination duckdb and into dataset generators\n",
            "The duckdb destination used duckdb:////Users/hongweichua/Documents/data-engineering-zoomcamp/data-engineering-zoomcamp-submission/data_ingestion_with_dlt/dlt_ipykernel_launcher.duckdb location to store data\n",
            "Load package 1707714867.5556638 is LOADED and contains no failed jobs\n",
            "Pipeline dlt_ipykernel_launcher load step completed in 0.33 seconds\n",
            "1 load package(s) were loaded to destination duckdb and into dataset generators\n",
            "The duckdb destination used duckdb:////Users/hongweichua/Documents/data-engineering-zoomcamp/data-engineering-zoomcamp-submission/data_ingestion_with_dlt/dlt_ipykernel_launcher.duckdb location to store data\n",
            "Load package 1707714868.265901 is LOADED and contains no failed jobs\n"
          ]
        }
      ],
      "source": [
        "# to do: homework :)\n",
        "# define the connection to load to.\n",
        "\n",
        "pipeline = dlt.pipeline(destination=\"duckdb\", dataset_name=\"question_4\")\n",
        "info = generators_pipeline.run(\n",
        "    people_1(),\n",
        "    table_name=\"question_4\",\n",
        "    write_disposition=\"merge\",\n",
        "    primary_key=\"id\",\n",
        ")\n",
        "print(info)\n",
        "info = generators_pipeline.run(\n",
        "    people_2(),\n",
        "    table_name=\"question_4\",\n",
        "    write_disposition=\"merge\",\n",
        "    primary_key=\"id\",\n",
        ")\n",
        "print(info)"
      ]
    },
    {
      "cell_type": "code",
      "execution_count": 10,
      "metadata": {},
      "outputs": [
        {
          "name": "stdout",
          "output_type": "stream",
          "text": [
            "Loaded tables: \n"
          ]
        },
        {
          "data": {
            "text/plain": [
              "┌─────────────────────┐\n",
              "│        name         │\n",
              "│       varchar       │\n",
              "├─────────────────────┤\n",
              "│ _dlt_loads          │\n",
              "│ _dlt_pipeline_state │\n",
              "│ _dlt_version        │\n",
              "│ question_3          │\n",
              "│ question_4          │\n",
              "└─────────────────────┘"
            ]
          },
          "metadata": {},
          "output_type": "display_data"
        },
        {
          "name": "stdout",
          "output_type": "stream",
          "text": [
            "\n",
            " Question 4 table below:\n"
          ]
        },
        {
          "data": {
            "text/html": [
              "<div>\n",
              "<style scoped>\n",
              "    .dataframe tbody tr th:only-of-type {\n",
              "        vertical-align: middle;\n",
              "    }\n",
              "\n",
              "    .dataframe tbody tr th {\n",
              "        vertical-align: top;\n",
              "    }\n",
              "\n",
              "    .dataframe thead th {\n",
              "        text-align: right;\n",
              "    }\n",
              "</style>\n",
              "<table border=\"1\" class=\"dataframe\">\n",
              "  <thead>\n",
              "    <tr style=\"text-align: right;\">\n",
              "      <th></th>\n",
              "      <th>id</th>\n",
              "      <th>name</th>\n",
              "      <th>age</th>\n",
              "      <th>city</th>\n",
              "      <th>_dlt_load_id</th>\n",
              "      <th>_dlt_id</th>\n",
              "      <th>occupation</th>\n",
              "    </tr>\n",
              "  </thead>\n",
              "  <tbody>\n",
              "    <tr>\n",
              "      <th>0</th>\n",
              "      <td>1</td>\n",
              "      <td>Person_1</td>\n",
              "      <td>26</td>\n",
              "      <td>City_A</td>\n",
              "      <td>1707714867.5556638</td>\n",
              "      <td>boYv4GedOpPQnw</td>\n",
              "      <td>None</td>\n",
              "    </tr>\n",
              "    <tr>\n",
              "      <th>1</th>\n",
              "      <td>2</td>\n",
              "      <td>Person_2</td>\n",
              "      <td>27</td>\n",
              "      <td>City_A</td>\n",
              "      <td>1707714867.5556638</td>\n",
              "      <td>vjStEN+0m0lBLw</td>\n",
              "      <td>None</td>\n",
              "    </tr>\n",
              "    <tr>\n",
              "      <th>2</th>\n",
              "      <td>8</td>\n",
              "      <td>Person_8</td>\n",
              "      <td>38</td>\n",
              "      <td>City_B</td>\n",
              "      <td>1707714868.265901</td>\n",
              "      <td>5uiReoEwrASm3w</td>\n",
              "      <td>Job_8</td>\n",
              "    </tr>\n",
              "    <tr>\n",
              "      <th>3</th>\n",
              "      <td>3</td>\n",
              "      <td>Person_3</td>\n",
              "      <td>33</td>\n",
              "      <td>City_B</td>\n",
              "      <td>1707714868.265901</td>\n",
              "      <td>ix5GvJLh6/hYWg</td>\n",
              "      <td>Job_3</td>\n",
              "    </tr>\n",
              "    <tr>\n",
              "      <th>4</th>\n",
              "      <td>6</td>\n",
              "      <td>Person_6</td>\n",
              "      <td>36</td>\n",
              "      <td>City_B</td>\n",
              "      <td>1707714868.265901</td>\n",
              "      <td>Adgkw9TuFGzz9A</td>\n",
              "      <td>Job_6</td>\n",
              "    </tr>\n",
              "    <tr>\n",
              "      <th>5</th>\n",
              "      <td>5</td>\n",
              "      <td>Person_5</td>\n",
              "      <td>35</td>\n",
              "      <td>City_B</td>\n",
              "      <td>1707714868.265901</td>\n",
              "      <td>m2Ee/4WHdFufIg</td>\n",
              "      <td>Job_5</td>\n",
              "    </tr>\n",
              "    <tr>\n",
              "      <th>6</th>\n",
              "      <td>7</td>\n",
              "      <td>Person_7</td>\n",
              "      <td>37</td>\n",
              "      <td>City_B</td>\n",
              "      <td>1707714868.265901</td>\n",
              "      <td>x5XB7f/4x2gZhw</td>\n",
              "      <td>Job_7</td>\n",
              "    </tr>\n",
              "    <tr>\n",
              "      <th>7</th>\n",
              "      <td>4</td>\n",
              "      <td>Person_4</td>\n",
              "      <td>34</td>\n",
              "      <td>City_B</td>\n",
              "      <td>1707714868.265901</td>\n",
              "      <td>SGrwqqGtgJBLgw</td>\n",
              "      <td>Job_4</td>\n",
              "    </tr>\n",
              "  </tbody>\n",
              "</table>\n",
              "</div>"
            ],
            "text/plain": [
              "   id      name  age    city        _dlt_load_id         _dlt_id occupation\n",
              "0   1  Person_1   26  City_A  1707714867.5556638  boYv4GedOpPQnw       None\n",
              "1   2  Person_2   27  City_A  1707714867.5556638  vjStEN+0m0lBLw       None\n",
              "2   8  Person_8   38  City_B   1707714868.265901  5uiReoEwrASm3w      Job_8\n",
              "3   3  Person_3   33  City_B   1707714868.265901  ix5GvJLh6/hYWg      Job_3\n",
              "4   6  Person_6   36  City_B   1707714868.265901  Adgkw9TuFGzz9A      Job_6\n",
              "5   5  Person_5   35  City_B   1707714868.265901  m2Ee/4WHdFufIg      Job_5\n",
              "6   7  Person_7   37  City_B   1707714868.265901  x5XB7f/4x2gZhw      Job_7\n",
              "7   4  Person_4   34  City_B   1707714868.265901  SGrwqqGtgJBLgw      Job_4"
            ]
          },
          "metadata": {},
          "output_type": "display_data"
        },
        {
          "data": {
            "text/html": [
              "<div>\n",
              "<style scoped>\n",
              "    .dataframe tbody tr th:only-of-type {\n",
              "        vertical-align: middle;\n",
              "    }\n",
              "\n",
              "    .dataframe tbody tr th {\n",
              "        vertical-align: top;\n",
              "    }\n",
              "\n",
              "    .dataframe thead th {\n",
              "        text-align: right;\n",
              "    }\n",
              "</style>\n",
              "<table border=\"1\" class=\"dataframe\">\n",
              "  <thead>\n",
              "    <tr style=\"text-align: right;\">\n",
              "      <th></th>\n",
              "      <th>sum(age)</th>\n",
              "    </tr>\n",
              "  </thead>\n",
              "  <tbody>\n",
              "    <tr>\n",
              "      <th>0</th>\n",
              "      <td>266.0</td>\n",
              "    </tr>\n",
              "  </tbody>\n",
              "</table>\n",
              "</div>"
            ],
            "text/plain": [
              "   sum(age)\n",
              "0     266.0"
            ]
          },
          "metadata": {},
          "output_type": "display_data"
        }
      ],
      "source": [
        "conn = duckdb.connect(f\"{generators_pipeline.pipeline_name}.duckdb\")\n",
        "\n",
        "# let's see the tables\n",
        "conn.sql(f\"SET search_path = '{generators_pipeline.dataset_name}'\")\n",
        "print(\"Loaded tables: \")\n",
        "display(conn.sql(\"show tables\"))\n",
        "\n",
        "# and the data\n",
        "\n",
        "print(\"\\n Question 4 table below:\")\n",
        "\n",
        "people = conn.sql(\"SELECT * FROM question_4\").df()\n",
        "display(people)\n",
        "\n",
        "age_4 = conn.sql(\"SELECT SUM(age) FROM question_4\").df()\n",
        "display(age_4)"
      ]
    },
    {
      "cell_type": "markdown",
      "metadata": {
        "id": "PoTJu4kbGG0z"
      },
      "source": [
        "Questions? difficulties? We are here to help.\n",
        "- DTC data engineering course channel: https://datatalks-club.slack.com/archives/C01FABYF2RG\n",
        "- dlt's DTC cohort channel: https://dlthub-community.slack.com/archives/C06GAEX2VNX"
      ]
    }
  ],
  "metadata": {
    "colab": {
      "provenance": []
    },
    "kernelspec": {
      "display_name": "Python 3",
      "name": "python3"
    },
    "language_info": {
      "codemirror_mode": {
        "name": "ipython",
        "version": 3
      },
      "file_extension": ".py",
      "mimetype": "text/x-python",
      "name": "python",
      "nbconvert_exporter": "python",
      "pygments_lexer": "ipython3",
      "version": "3.10.9"
    }
  },
  "nbformat": 4,
  "nbformat_minor": 0
}
